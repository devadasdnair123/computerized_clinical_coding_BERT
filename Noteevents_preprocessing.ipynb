{
 "cells": [
  {
   "cell_type": "code",
   "execution_count": 31,
   "id": "aae45707",
   "metadata": {},
   "outputs": [],
   "source": [
    "import numpy as np\n",
    "import pandas as pd"
   ]
  },
  {
   "cell_type": "code",
   "execution_count": 32,
   "id": "c6e8974e",
   "metadata": {},
   "outputs": [
    {
     "name": "stderr",
     "output_type": "stream",
     "text": [
      "C:\\Users\\devad\\AppData\\Local\\Temp\\ipykernel_22432\\1905699193.py:1: DtypeWarning: Columns (4,5) have mixed types. Specify dtype option on import or set low_memory=False.\n",
      "  df = pd.read_csv('NOTEEVENTS.csv')\n"
     ]
    }
   ],
   "source": [
    "df = pd.read_csv('NOTEEVENTS.csv')"
   ]
  },
  {
   "cell_type": "code",
   "execution_count": 33,
   "id": "ba33e623",
   "metadata": {},
   "outputs": [
    {
     "data": {
      "text/html": [
       "<div>\n",
       "<style scoped>\n",
       "    .dataframe tbody tr th:only-of-type {\n",
       "        vertical-align: middle;\n",
       "    }\n",
       "\n",
       "    .dataframe tbody tr th {\n",
       "        vertical-align: top;\n",
       "    }\n",
       "\n",
       "    .dataframe thead th {\n",
       "        text-align: right;\n",
       "    }\n",
       "</style>\n",
       "<table border=\"1\" class=\"dataframe\">\n",
       "  <thead>\n",
       "    <tr style=\"text-align: right;\">\n",
       "      <th></th>\n",
       "      <th>ROW_ID</th>\n",
       "      <th>SUBJECT_ID</th>\n",
       "      <th>HADM_ID</th>\n",
       "      <th>CHARTDATE</th>\n",
       "      <th>CHARTTIME</th>\n",
       "      <th>STORETIME</th>\n",
       "      <th>CATEGORY</th>\n",
       "      <th>DESCRIPTION</th>\n",
       "      <th>CGID</th>\n",
       "      <th>ISERROR</th>\n",
       "      <th>TEXT</th>\n",
       "    </tr>\n",
       "  </thead>\n",
       "  <tbody>\n",
       "    <tr>\n",
       "      <th>0</th>\n",
       "      <td>174</td>\n",
       "      <td>22532</td>\n",
       "      <td>167853.0</td>\n",
       "      <td>2151-08-04</td>\n",
       "      <td>NaN</td>\n",
       "      <td>NaN</td>\n",
       "      <td>Discharge summary</td>\n",
       "      <td>Report</td>\n",
       "      <td>NaN</td>\n",
       "      <td>NaN</td>\n",
       "      <td>Admission Date:  [**2151-7-16**]       Dischar...</td>\n",
       "    </tr>\n",
       "    <tr>\n",
       "      <th>1</th>\n",
       "      <td>175</td>\n",
       "      <td>13702</td>\n",
       "      <td>107527.0</td>\n",
       "      <td>2118-06-14</td>\n",
       "      <td>NaN</td>\n",
       "      <td>NaN</td>\n",
       "      <td>Discharge summary</td>\n",
       "      <td>Report</td>\n",
       "      <td>NaN</td>\n",
       "      <td>NaN</td>\n",
       "      <td>Admission Date:  [**2118-6-2**]       Discharg...</td>\n",
       "    </tr>\n",
       "    <tr>\n",
       "      <th>2</th>\n",
       "      <td>176</td>\n",
       "      <td>13702</td>\n",
       "      <td>167118.0</td>\n",
       "      <td>2119-05-25</td>\n",
       "      <td>NaN</td>\n",
       "      <td>NaN</td>\n",
       "      <td>Discharge summary</td>\n",
       "      <td>Report</td>\n",
       "      <td>NaN</td>\n",
       "      <td>NaN</td>\n",
       "      <td>Admission Date:  [**2119-5-4**]              D...</td>\n",
       "    </tr>\n",
       "    <tr>\n",
       "      <th>3</th>\n",
       "      <td>177</td>\n",
       "      <td>13702</td>\n",
       "      <td>196489.0</td>\n",
       "      <td>2124-08-18</td>\n",
       "      <td>NaN</td>\n",
       "      <td>NaN</td>\n",
       "      <td>Discharge summary</td>\n",
       "      <td>Report</td>\n",
       "      <td>NaN</td>\n",
       "      <td>NaN</td>\n",
       "      <td>Admission Date:  [**2124-7-21**]              ...</td>\n",
       "    </tr>\n",
       "    <tr>\n",
       "      <th>4</th>\n",
       "      <td>178</td>\n",
       "      <td>26880</td>\n",
       "      <td>135453.0</td>\n",
       "      <td>2162-03-25</td>\n",
       "      <td>NaN</td>\n",
       "      <td>NaN</td>\n",
       "      <td>Discharge summary</td>\n",
       "      <td>Report</td>\n",
       "      <td>NaN</td>\n",
       "      <td>NaN</td>\n",
       "      <td>Admission Date:  [**2162-3-3**]              D...</td>\n",
       "    </tr>\n",
       "  </tbody>\n",
       "</table>\n",
       "</div>"
      ],
      "text/plain": [
       "   ROW_ID  SUBJECT_ID   HADM_ID   CHARTDATE CHARTTIME STORETIME  \\\n",
       "0     174       22532  167853.0  2151-08-04       NaN       NaN   \n",
       "1     175       13702  107527.0  2118-06-14       NaN       NaN   \n",
       "2     176       13702  167118.0  2119-05-25       NaN       NaN   \n",
       "3     177       13702  196489.0  2124-08-18       NaN       NaN   \n",
       "4     178       26880  135453.0  2162-03-25       NaN       NaN   \n",
       "\n",
       "            CATEGORY DESCRIPTION  CGID  ISERROR  \\\n",
       "0  Discharge summary      Report   NaN      NaN   \n",
       "1  Discharge summary      Report   NaN      NaN   \n",
       "2  Discharge summary      Report   NaN      NaN   \n",
       "3  Discharge summary      Report   NaN      NaN   \n",
       "4  Discharge summary      Report   NaN      NaN   \n",
       "\n",
       "                                                TEXT  \n",
       "0  Admission Date:  [**2151-7-16**]       Dischar...  \n",
       "1  Admission Date:  [**2118-6-2**]       Discharg...  \n",
       "2  Admission Date:  [**2119-5-4**]              D...  \n",
       "3  Admission Date:  [**2124-7-21**]              ...  \n",
       "4  Admission Date:  [**2162-3-3**]              D...  "
      ]
     },
     "execution_count": 33,
     "metadata": {},
     "output_type": "execute_result"
    }
   ],
   "source": [
    "df.head(5)"
   ]
  },
  {
   "cell_type": "code",
   "execution_count": 34,
   "id": "3b53c0fa",
   "metadata": {},
   "outputs": [
    {
     "data": {
      "text/plain": [
       "ROW_ID               0\n",
       "SUBJECT_ID           0\n",
       "HADM_ID         231836\n",
       "CHARTDATE            0\n",
       "CHARTTIME       316566\n",
       "STORETIME       836776\n",
       "CATEGORY             0\n",
       "DESCRIPTION          0\n",
       "CGID            836776\n",
       "ISERROR        2082294\n",
       "TEXT                 0\n",
       "dtype: int64"
      ]
     },
     "execution_count": 34,
     "metadata": {},
     "output_type": "execute_result"
    }
   ],
   "source": [
    "df.isna().sum()"
   ]
  },
  {
   "cell_type": "code",
   "execution_count": 35,
   "id": "91bcea07",
   "metadata": {},
   "outputs": [
    {
     "data": {
      "text/plain": [
       "<bound method DataFrame.info of           ROW_ID  SUBJECT_ID   HADM_ID   CHARTDATE            CHARTTIME  \\\n",
       "0            174       22532  167853.0  2151-08-04                  NaN   \n",
       "1            175       13702  107527.0  2118-06-14                  NaN   \n",
       "2            176       13702  167118.0  2119-05-25                  NaN   \n",
       "3            177       13702  196489.0  2124-08-18                  NaN   \n",
       "4            178       26880  135453.0  2162-03-25                  NaN   \n",
       "...          ...         ...       ...         ...                  ...   \n",
       "2083175  2070657       31097  115637.0  2132-01-21  2132-01-21 03:27:00   \n",
       "2083176  2070658       31097  115637.0  2132-01-21  2132-01-21 09:50:00   \n",
       "2083177  2070659       31097  115637.0  2132-01-21  2132-01-21 16:42:00   \n",
       "2083178  2070660       31097  115637.0  2132-01-21  2132-01-21 18:05:00   \n",
       "2083179  2070661       31097  115637.0  2132-01-21  2132-01-21 18:05:00   \n",
       "\n",
       "                   STORETIME           CATEGORY DESCRIPTION     CGID  ISERROR  \\\n",
       "0                        NaN  Discharge summary      Report      NaN      NaN   \n",
       "1                        NaN  Discharge summary      Report      NaN      NaN   \n",
       "2                        NaN  Discharge summary      Report      NaN      NaN   \n",
       "3                        NaN  Discharge summary      Report      NaN      NaN   \n",
       "4                        NaN  Discharge summary      Report      NaN      NaN   \n",
       "...                      ...                ...         ...      ...      ...   \n",
       "2083175  2132-01-21 03:38:00      Nursing/other      Report  17581.0      NaN   \n",
       "2083176  2132-01-21 09:53:00      Nursing/other      Report  19211.0      NaN   \n",
       "2083177  2132-01-21 16:44:00      Nursing/other      Report  20104.0      NaN   \n",
       "2083178  2132-01-21 18:16:00      Nursing/other      Report  16023.0      NaN   \n",
       "2083179  2132-01-21 18:31:00      Nursing/other      Report  16023.0      NaN   \n",
       "\n",
       "                                                      TEXT  \n",
       "0        Admission Date:  [**2151-7-16**]       Dischar...  \n",
       "1        Admission Date:  [**2118-6-2**]       Discharg...  \n",
       "2        Admission Date:  [**2119-5-4**]              D...  \n",
       "3        Admission Date:  [**2124-7-21**]              ...  \n",
       "4        Admission Date:  [**2162-3-3**]              D...  \n",
       "...                                                    ...  \n",
       "2083175  NPN\\n\\n\\n#1  Infant remains in RA with O2 sats...  \n",
       "2083176  Neonatology\\nDOL #5, CGA 36 weeks.\\n\\nCVR: Con...  \n",
       "2083177  Family Meeting Note\\nFamily meeting held with ...  \n",
       "2083178  NPN 1800\\n\\n\\n#1 Resp: [**Known lastname 2243*...  \n",
       "2083179  NPN 1800\\nNursing Addendum:\\n[**Known lastname...  \n",
       "\n",
       "[2083180 rows x 11 columns]>"
      ]
     },
     "execution_count": 35,
     "metadata": {},
     "output_type": "execute_result"
    }
   ],
   "source": [
    "df.info"
   ]
  },
  {
   "cell_type": "code",
   "execution_count": 38,
   "id": "fb0a8839",
   "metadata": {},
   "outputs": [
    {
     "data": {
      "text/plain": [
       "(2083180, 11)"
      ]
     },
     "execution_count": 38,
     "metadata": {},
     "output_type": "execute_result"
    }
   ],
   "source": [
    "df.shape"
   ]
  },
  {
   "cell_type": "code",
   "execution_count": 39,
   "id": "11a5e0b1",
   "metadata": {},
   "outputs": [],
   "source": [
    "columns = ['ROW_ID','SUBJECT_ID','HADM_ID','TEXT']\n",
    "df = pd.DataFrame(df, columns=columns)"
   ]
  },
  {
   "cell_type": "code",
   "execution_count": 40,
   "id": "4b1ad1e9",
   "metadata": {},
   "outputs": [
    {
     "data": {
      "text/html": [
       "<div>\n",
       "<style scoped>\n",
       "    .dataframe tbody tr th:only-of-type {\n",
       "        vertical-align: middle;\n",
       "    }\n",
       "\n",
       "    .dataframe tbody tr th {\n",
       "        vertical-align: top;\n",
       "    }\n",
       "\n",
       "    .dataframe thead th {\n",
       "        text-align: right;\n",
       "    }\n",
       "</style>\n",
       "<table border=\"1\" class=\"dataframe\">\n",
       "  <thead>\n",
       "    <tr style=\"text-align: right;\">\n",
       "      <th></th>\n",
       "      <th>ROW_ID</th>\n",
       "      <th>SUBJECT_ID</th>\n",
       "      <th>HADM_ID</th>\n",
       "      <th>TEXT</th>\n",
       "    </tr>\n",
       "  </thead>\n",
       "  <tbody>\n",
       "    <tr>\n",
       "      <th>0</th>\n",
       "      <td>174</td>\n",
       "      <td>22532</td>\n",
       "      <td>167853.0</td>\n",
       "      <td>Admission Date:  [**2151-7-16**]       Dischar...</td>\n",
       "    </tr>\n",
       "    <tr>\n",
       "      <th>1</th>\n",
       "      <td>175</td>\n",
       "      <td>13702</td>\n",
       "      <td>107527.0</td>\n",
       "      <td>Admission Date:  [**2118-6-2**]       Discharg...</td>\n",
       "    </tr>\n",
       "    <tr>\n",
       "      <th>2</th>\n",
       "      <td>176</td>\n",
       "      <td>13702</td>\n",
       "      <td>167118.0</td>\n",
       "      <td>Admission Date:  [**2119-5-4**]              D...</td>\n",
       "    </tr>\n",
       "    <tr>\n",
       "      <th>3</th>\n",
       "      <td>177</td>\n",
       "      <td>13702</td>\n",
       "      <td>196489.0</td>\n",
       "      <td>Admission Date:  [**2124-7-21**]              ...</td>\n",
       "    </tr>\n",
       "    <tr>\n",
       "      <th>4</th>\n",
       "      <td>178</td>\n",
       "      <td>26880</td>\n",
       "      <td>135453.0</td>\n",
       "      <td>Admission Date:  [**2162-3-3**]              D...</td>\n",
       "    </tr>\n",
       "  </tbody>\n",
       "</table>\n",
       "</div>"
      ],
      "text/plain": [
       "   ROW_ID  SUBJECT_ID   HADM_ID  \\\n",
       "0     174       22532  167853.0   \n",
       "1     175       13702  107527.0   \n",
       "2     176       13702  167118.0   \n",
       "3     177       13702  196489.0   \n",
       "4     178       26880  135453.0   \n",
       "\n",
       "                                                TEXT  \n",
       "0  Admission Date:  [**2151-7-16**]       Dischar...  \n",
       "1  Admission Date:  [**2118-6-2**]       Discharg...  \n",
       "2  Admission Date:  [**2119-5-4**]              D...  \n",
       "3  Admission Date:  [**2124-7-21**]              ...  \n",
       "4  Admission Date:  [**2162-3-3**]              D...  "
      ]
     },
     "execution_count": 40,
     "metadata": {},
     "output_type": "execute_result"
    }
   ],
   "source": [
    "df.head(5)"
   ]
  },
  {
   "cell_type": "code",
   "execution_count": 41,
   "id": "a34ea358",
   "metadata": {},
   "outputs": [
    {
     "data": {
      "text/plain": [
       "(2083180, 4)"
      ]
     },
     "execution_count": 41,
     "metadata": {},
     "output_type": "execute_result"
    }
   ],
   "source": [
    "df.shape"
   ]
  },
  {
   "cell_type": "code",
   "execution_count": 42,
   "id": "1b7e01e0",
   "metadata": {},
   "outputs": [
    {
     "data": {
      "text/plain": [
       "231836"
      ]
     },
     "execution_count": 42,
     "metadata": {},
     "output_type": "execute_result"
    }
   ],
   "source": [
    "df['HADM_ID'].isna().sum()"
   ]
  },
  {
   "cell_type": "code",
   "execution_count": 43,
   "id": "b6baa8f7",
   "metadata": {},
   "outputs": [],
   "source": [
    "df = df[df['HADM_ID'].notnull()]"
   ]
  },
  {
   "cell_type": "code",
   "execution_count": 44,
   "id": "5d61b018",
   "metadata": {},
   "outputs": [
    {
     "data": {
      "text/plain": [
       "(1851344, 4)"
      ]
     },
     "execution_count": 44,
     "metadata": {},
     "output_type": "execute_result"
    }
   ],
   "source": [
    "df.shape"
   ]
  },
  {
   "cell_type": "code",
   "execution_count": 46,
   "id": "862d7380",
   "metadata": {},
   "outputs": [
    {
     "data": {
      "text/plain": [
       "889"
      ]
     },
     "execution_count": 46,
     "metadata": {},
     "output_type": "execute_result"
    }
   ],
   "source": [
    "len(df['TEXT'][0])"
   ]
  },
  {
   "cell_type": "code",
   "execution_count": 51,
   "id": "18c6f2dd",
   "metadata": {},
   "outputs": [],
   "source": [
    "mask = (df['TEXT'].str.len() < 400)\n",
    "df = df.loc[mask]"
   ]
  },
  {
   "cell_type": "code",
   "execution_count": 52,
   "id": "170beec7",
   "metadata": {},
   "outputs": [
    {
     "data": {
      "text/plain": [
       "(430411, 4)"
      ]
     },
     "execution_count": 52,
     "metadata": {},
     "output_type": "execute_result"
    }
   ],
   "source": [
    "df.shape"
   ]
  },
  {
   "cell_type": "code",
   "execution_count": 53,
   "id": "ff3aee7b",
   "metadata": {},
   "outputs": [],
   "source": [
    "df.to_csv('NOTEEVENTS_NEW.csv')  # Save dataframe as data.csv in the current directory"
   ]
  },
  {
   "cell_type": "code",
   "execution_count": 54,
   "id": "387908e4",
   "metadata": {},
   "outputs": [
    {
     "data": {
      "text/html": [
       "<div>\n",
       "<style scoped>\n",
       "    .dataframe tbody tr th:only-of-type {\n",
       "        vertical-align: middle;\n",
       "    }\n",
       "\n",
       "    .dataframe tbody tr th {\n",
       "        vertical-align: top;\n",
       "    }\n",
       "\n",
       "    .dataframe thead th {\n",
       "        text-align: right;\n",
       "    }\n",
       "</style>\n",
       "<table border=\"1\" class=\"dataframe\">\n",
       "  <thead>\n",
       "    <tr style=\"text-align: right;\">\n",
       "      <th></th>\n",
       "      <th>ROW_ID</th>\n",
       "      <th>SUBJECT_ID</th>\n",
       "      <th>HADM_ID</th>\n",
       "      <th>TEXT</th>\n",
       "    </tr>\n",
       "  </thead>\n",
       "  <tbody>\n",
       "    <tr>\n",
       "      <th>924</th>\n",
       "      <td>611</td>\n",
       "      <td>3734</td>\n",
       "      <td>186879.0</td>\n",
       "      <td>Admission Date:  [**2109-8-7**]     Discharge ...</td>\n",
       "    </tr>\n",
       "    <tr>\n",
       "      <th>1780</th>\n",
       "      <td>1942</td>\n",
       "      <td>21126</td>\n",
       "      <td>124750.0</td>\n",
       "      <td>Admission Date:  [**2200-2-10**]     Discharge...</td>\n",
       "    </tr>\n",
       "    <tr>\n",
       "      <th>2042</th>\n",
       "      <td>2155</td>\n",
       "      <td>9554</td>\n",
       "      <td>119712.0</td>\n",
       "      <td>Admission Date:  [**2198-8-6**]       Discharg...</td>\n",
       "    </tr>\n",
       "    <tr>\n",
       "      <th>2842</th>\n",
       "      <td>2568</td>\n",
       "      <td>8970</td>\n",
       "      <td>176312.0</td>\n",
       "      <td>Admission Date:  [**2123-10-25**]       Discha...</td>\n",
       "    </tr>\n",
       "    <tr>\n",
       "      <th>3289</th>\n",
       "      <td>3142</td>\n",
       "      <td>18982</td>\n",
       "      <td>137674.0</td>\n",
       "      <td>Admission Date:  [**2133-11-27**]       Discha...</td>\n",
       "    </tr>\n",
       "  </tbody>\n",
       "</table>\n",
       "</div>"
      ],
      "text/plain": [
       "      ROW_ID  SUBJECT_ID   HADM_ID  \\\n",
       "924      611        3734  186879.0   \n",
       "1780    1942       21126  124750.0   \n",
       "2042    2155        9554  119712.0   \n",
       "2842    2568        8970  176312.0   \n",
       "3289    3142       18982  137674.0   \n",
       "\n",
       "                                                   TEXT  \n",
       "924   Admission Date:  [**2109-8-7**]     Discharge ...  \n",
       "1780  Admission Date:  [**2200-2-10**]     Discharge...  \n",
       "2042  Admission Date:  [**2198-8-6**]       Discharg...  \n",
       "2842  Admission Date:  [**2123-10-25**]       Discha...  \n",
       "3289  Admission Date:  [**2133-11-27**]       Discha...  "
      ]
     },
     "execution_count": 54,
     "metadata": {},
     "output_type": "execute_result"
    }
   ],
   "source": [
    "df.head()"
   ]
  },
  {
   "cell_type": "code",
   "execution_count": 59,
   "id": "70c59ff3",
   "metadata": {},
   "outputs": [],
   "source": [
    "df = pd.read_csv('NOTEEVENTS_NEW.csv')"
   ]
  },
  {
   "cell_type": "code",
   "execution_count": 60,
   "id": "285020ac",
   "metadata": {},
   "outputs": [
    {
     "data": {
      "text/html": [
       "<div>\n",
       "<style scoped>\n",
       "    .dataframe tbody tr th:only-of-type {\n",
       "        vertical-align: middle;\n",
       "    }\n",
       "\n",
       "    .dataframe tbody tr th {\n",
       "        vertical-align: top;\n",
       "    }\n",
       "\n",
       "    .dataframe thead th {\n",
       "        text-align: right;\n",
       "    }\n",
       "</style>\n",
       "<table border=\"1\" class=\"dataframe\">\n",
       "  <thead>\n",
       "    <tr style=\"text-align: right;\">\n",
       "      <th></th>\n",
       "      <th>Unnamed: 0</th>\n",
       "      <th>ROW_ID</th>\n",
       "      <th>SUBJECT_ID</th>\n",
       "      <th>HADM_ID</th>\n",
       "      <th>TEXT</th>\n",
       "    </tr>\n",
       "  </thead>\n",
       "  <tbody>\n",
       "    <tr>\n",
       "      <th>0</th>\n",
       "      <td>924</td>\n",
       "      <td>611</td>\n",
       "      <td>3734</td>\n",
       "      <td>186879.0</td>\n",
       "      <td>Admission Date:  [**2109-8-7**]     Discharge ...</td>\n",
       "    </tr>\n",
       "    <tr>\n",
       "      <th>1</th>\n",
       "      <td>1780</td>\n",
       "      <td>1942</td>\n",
       "      <td>21126</td>\n",
       "      <td>124750.0</td>\n",
       "      <td>Admission Date:  [**2200-2-10**]     Discharge...</td>\n",
       "    </tr>\n",
       "    <tr>\n",
       "      <th>2</th>\n",
       "      <td>2042</td>\n",
       "      <td>2155</td>\n",
       "      <td>9554</td>\n",
       "      <td>119712.0</td>\n",
       "      <td>Admission Date:  [**2198-8-6**]       Discharg...</td>\n",
       "    </tr>\n",
       "    <tr>\n",
       "      <th>3</th>\n",
       "      <td>2842</td>\n",
       "      <td>2568</td>\n",
       "      <td>8970</td>\n",
       "      <td>176312.0</td>\n",
       "      <td>Admission Date:  [**2123-10-25**]       Discha...</td>\n",
       "    </tr>\n",
       "    <tr>\n",
       "      <th>4</th>\n",
       "      <td>3289</td>\n",
       "      <td>3142</td>\n",
       "      <td>18982</td>\n",
       "      <td>137674.0</td>\n",
       "      <td>Admission Date:  [**2133-11-27**]       Discha...</td>\n",
       "    </tr>\n",
       "  </tbody>\n",
       "</table>\n",
       "</div>"
      ],
      "text/plain": [
       "   Unnamed: 0  ROW_ID  SUBJECT_ID   HADM_ID  \\\n",
       "0         924     611        3734  186879.0   \n",
       "1        1780    1942       21126  124750.0   \n",
       "2        2042    2155        9554  119712.0   \n",
       "3        2842    2568        8970  176312.0   \n",
       "4        3289    3142       18982  137674.0   \n",
       "\n",
       "                                                TEXT  \n",
       "0  Admission Date:  [**2109-8-7**]     Discharge ...  \n",
       "1  Admission Date:  [**2200-2-10**]     Discharge...  \n",
       "2  Admission Date:  [**2198-8-6**]       Discharg...  \n",
       "3  Admission Date:  [**2123-10-25**]       Discha...  \n",
       "4  Admission Date:  [**2133-11-27**]       Discha...  "
      ]
     },
     "execution_count": 60,
     "metadata": {},
     "output_type": "execute_result"
    }
   ],
   "source": [
    "df.head()"
   ]
  },
  {
   "cell_type": "code",
   "execution_count": 61,
   "id": "37a5c68f",
   "metadata": {},
   "outputs": [
    {
     "data": {
      "text/plain": [
       "(430411, 5)"
      ]
     },
     "execution_count": 61,
     "metadata": {},
     "output_type": "execute_result"
    }
   ],
   "source": [
    "df.shape"
   ]
  },
  {
   "cell_type": "code",
   "execution_count": 66,
   "id": "ded1ca35",
   "metadata": {},
   "outputs": [
    {
     "data": {
      "text/plain": [
       "'Sinus rhythm. Continued ST segment elevation and increase in rate with changes\\nof acute anteroseptal, lateral and apical myocardial infarction. Followup and\\nclinical correlation are suggested.\\nTRACING #6\\n\\n'"
      ]
     },
     "execution_count": 66,
     "metadata": {},
     "output_type": "execute_result"
    }
   ],
   "source": [
    "df['TEXT'][120001]"
   ]
  },
  {
   "cell_type": "code",
   "execution_count": 68,
   "id": "bfc5300e",
   "metadata": {},
   "outputs": [
    {
     "data": {
      "text/plain": [
       "430411"
      ]
     },
     "execution_count": 68,
     "metadata": {},
     "output_type": "execute_result"
    }
   ],
   "source": [
    "len(df['TEXT'])"
   ]
  },
  {
   "cell_type": "code",
   "execution_count": 70,
   "id": "a82046b9",
   "metadata": {},
   "outputs": [],
   "source": [
    "df2 = pd.read_csv('D_ICD_DIAGNOSES.csv')"
   ]
  },
  {
   "cell_type": "code",
   "execution_count": 71,
   "id": "3ec4143d",
   "metadata": {},
   "outputs": [
    {
     "data": {
      "text/html": [
       "<div>\n",
       "<style scoped>\n",
       "    .dataframe tbody tr th:only-of-type {\n",
       "        vertical-align: middle;\n",
       "    }\n",
       "\n",
       "    .dataframe tbody tr th {\n",
       "        vertical-align: top;\n",
       "    }\n",
       "\n",
       "    .dataframe thead th {\n",
       "        text-align: right;\n",
       "    }\n",
       "</style>\n",
       "<table border=\"1\" class=\"dataframe\">\n",
       "  <thead>\n",
       "    <tr style=\"text-align: right;\">\n",
       "      <th></th>\n",
       "      <th>ROW_ID</th>\n",
       "      <th>ICD9_CODE</th>\n",
       "      <th>SHORT_TITLE</th>\n",
       "      <th>LONG_TITLE</th>\n",
       "    </tr>\n",
       "  </thead>\n",
       "  <tbody>\n",
       "    <tr>\n",
       "      <th>0</th>\n",
       "      <td>174</td>\n",
       "      <td>01166</td>\n",
       "      <td>TB pneumonia-oth test</td>\n",
       "      <td>Tuberculous pneumonia [any form], tubercle bac...</td>\n",
       "    </tr>\n",
       "    <tr>\n",
       "      <th>1</th>\n",
       "      <td>175</td>\n",
       "      <td>01170</td>\n",
       "      <td>TB pneumothorax-unspec</td>\n",
       "      <td>Tuberculous pneumothorax, unspecified</td>\n",
       "    </tr>\n",
       "    <tr>\n",
       "      <th>2</th>\n",
       "      <td>176</td>\n",
       "      <td>01171</td>\n",
       "      <td>TB pneumothorax-no exam</td>\n",
       "      <td>Tuberculous pneumothorax, bacteriological or h...</td>\n",
       "    </tr>\n",
       "    <tr>\n",
       "      <th>3</th>\n",
       "      <td>177</td>\n",
       "      <td>01172</td>\n",
       "      <td>TB pneumothorx-exam unkn</td>\n",
       "      <td>Tuberculous pneumothorax, bacteriological or h...</td>\n",
       "    </tr>\n",
       "    <tr>\n",
       "      <th>4</th>\n",
       "      <td>178</td>\n",
       "      <td>01173</td>\n",
       "      <td>TB pneumothorax-micro dx</td>\n",
       "      <td>Tuberculous pneumothorax, tubercle bacilli fou...</td>\n",
       "    </tr>\n",
       "  </tbody>\n",
       "</table>\n",
       "</div>"
      ],
      "text/plain": [
       "   ROW_ID ICD9_CODE               SHORT_TITLE  \\\n",
       "0     174     01166     TB pneumonia-oth test   \n",
       "1     175     01170    TB pneumothorax-unspec   \n",
       "2     176     01171   TB pneumothorax-no exam   \n",
       "3     177     01172  TB pneumothorx-exam unkn   \n",
       "4     178     01173  TB pneumothorax-micro dx   \n",
       "\n",
       "                                          LONG_TITLE  \n",
       "0  Tuberculous pneumonia [any form], tubercle bac...  \n",
       "1              Tuberculous pneumothorax, unspecified  \n",
       "2  Tuberculous pneumothorax, bacteriological or h...  \n",
       "3  Tuberculous pneumothorax, bacteriological or h...  \n",
       "4  Tuberculous pneumothorax, tubercle bacilli fou...  "
      ]
     },
     "execution_count": 71,
     "metadata": {},
     "output_type": "execute_result"
    }
   ],
   "source": [
    "df2.head()"
   ]
  },
  {
   "cell_type": "code",
   "execution_count": 72,
   "id": "cfb1ea8e",
   "metadata": {},
   "outputs": [
    {
     "data": {
      "text/plain": [
       "(14567, 4)"
      ]
     },
     "execution_count": 72,
     "metadata": {},
     "output_type": "execute_result"
    }
   ],
   "source": [
    "df2.shape"
   ]
  },
  {
   "cell_type": "code",
   "execution_count": 75,
   "id": "012dcc04",
   "metadata": {},
   "outputs": [
    {
     "name": "stdout",
     "output_type": "stream",
     "text": [
      "Does not exist\n"
     ]
    }
   ],
   "source": [
    "if \"TB pneumonia-oth test\" in \"Hire the top freelancers\":\n",
    "    print(\"Exists\")\n",
    "else:\n",
    "    print(\"Does not exist\")"
   ]
  },
  {
   "cell_type": "code",
   "execution_count": null,
   "id": "2df47781",
   "metadata": {},
   "outputs": [],
   "source": []
  },
  {
   "cell_type": "code",
   "execution_count": null,
   "id": "a95afe1d",
   "metadata": {},
   "outputs": [],
   "source": []
  },
  {
   "cell_type": "code",
   "execution_count": null,
   "id": "c0eff7c5",
   "metadata": {},
   "outputs": [],
   "source": []
  }
 ],
 "metadata": {
  "kernelspec": {
   "display_name": "Python 3 (ipykernel)",
   "language": "python",
   "name": "python3"
  },
  "language_info": {
   "codemirror_mode": {
    "name": "ipython",
    "version": 3
   },
   "file_extension": ".py",
   "mimetype": "text/x-python",
   "name": "python",
   "nbconvert_exporter": "python",
   "pygments_lexer": "ipython3",
   "version": "3.10.13"
  }
 },
 "nbformat": 4,
 "nbformat_minor": 5
}
