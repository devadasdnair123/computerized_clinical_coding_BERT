{
 "cells": [
  {
   "cell_type": "code",
   "execution_count": 6,
   "id": "7b1703fe",
   "metadata": {},
   "outputs": [],
   "source": [
    "import numpy as np\n",
    "import pandas as pd"
   ]
  },
  {
   "cell_type": "code",
   "execution_count": 7,
   "id": "4367477d",
   "metadata": {},
   "outputs": [],
   "source": [
    "df = pd.read_csv('NOTEEVENTS_NEW.csv')"
   ]
  },
  {
   "cell_type": "code",
   "execution_count": 8,
   "id": "09020f17",
   "metadata": {},
   "outputs": [
    {
     "data": {
      "text/html": [
       "<div>\n",
       "<style scoped>\n",
       "    .dataframe tbody tr th:only-of-type {\n",
       "        vertical-align: middle;\n",
       "    }\n",
       "\n",
       "    .dataframe tbody tr th {\n",
       "        vertical-align: top;\n",
       "    }\n",
       "\n",
       "    .dataframe thead th {\n",
       "        text-align: right;\n",
       "    }\n",
       "</style>\n",
       "<table border=\"1\" class=\"dataframe\">\n",
       "  <thead>\n",
       "    <tr style=\"text-align: right;\">\n",
       "      <th></th>\n",
       "      <th>Unnamed: 0</th>\n",
       "      <th>ROW_ID</th>\n",
       "      <th>SUBJECT_ID</th>\n",
       "      <th>HADM_ID</th>\n",
       "      <th>TEXT</th>\n",
       "    </tr>\n",
       "  </thead>\n",
       "  <tbody>\n",
       "    <tr>\n",
       "      <th>0</th>\n",
       "      <td>100164</td>\n",
       "      <td>107417</td>\n",
       "      <td>88360</td>\n",
       "      <td>130127</td>\n",
       "      <td>Sinus rhythm with A-V conduction delay.  Infer...</td>\n",
       "    </tr>\n",
       "    <tr>\n",
       "      <th>1</th>\n",
       "      <td>100165</td>\n",
       "      <td>107418</td>\n",
       "      <td>88360</td>\n",
       "      <td>130127</td>\n",
       "      <td>Sinus rhythm with A-V conduction delay. Infero...</td>\n",
       "    </tr>\n",
       "    <tr>\n",
       "      <th>2</th>\n",
       "      <td>100166</td>\n",
       "      <td>107419</td>\n",
       "      <td>14209</td>\n",
       "      <td>117857</td>\n",
       "      <td>Sinus rhythm. Normal ECG. Compared to the prev...</td>\n",
       "    </tr>\n",
       "    <tr>\n",
       "      <th>3</th>\n",
       "      <td>100167</td>\n",
       "      <td>107420</td>\n",
       "      <td>14209</td>\n",
       "      <td>117857</td>\n",
       "      <td>Sinus tachycardia. Low limb lead voltage. Comp...</td>\n",
       "    </tr>\n",
       "    <tr>\n",
       "      <th>4</th>\n",
       "      <td>100168</td>\n",
       "      <td>107421</td>\n",
       "      <td>10959</td>\n",
       "      <td>135569</td>\n",
       "      <td>Sinus bradycardia\\nPremature beats - may be ju...</td>\n",
       "    </tr>\n",
       "  </tbody>\n",
       "</table>\n",
       "</div>"
      ],
      "text/plain": [
       "   Unnamed: 0  ROW_ID  SUBJECT_ID  HADM_ID  \\\n",
       "0      100164  107417       88360   130127   \n",
       "1      100165  107418       88360   130127   \n",
       "2      100166  107419       14209   117857   \n",
       "3      100167  107420       14209   117857   \n",
       "4      100168  107421       10959   135569   \n",
       "\n",
       "                                                TEXT  \n",
       "0  Sinus rhythm with A-V conduction delay.  Infer...  \n",
       "1  Sinus rhythm with A-V conduction delay. Infero...  \n",
       "2  Sinus rhythm. Normal ECG. Compared to the prev...  \n",
       "3  Sinus tachycardia. Low limb lead voltage. Comp...  \n",
       "4  Sinus bradycardia\\nPremature beats - may be ju...  "
      ]
     },
     "execution_count": 8,
     "metadata": {},
     "output_type": "execute_result"
    }
   ],
   "source": [
    "df.head()"
   ]
  },
  {
   "cell_type": "code",
   "execution_count": 11,
   "id": "f01213b1",
   "metadata": {},
   "outputs": [
    {
     "data": {
      "text/plain": [
       "(429238, 5)"
      ]
     },
     "execution_count": 11,
     "metadata": {},
     "output_type": "execute_result"
    }
   ],
   "source": [
    "df.shape"
   ]
  },
  {
   "cell_type": "code",
   "execution_count": 9,
   "id": "9c2f00ca",
   "metadata": {},
   "outputs": [],
   "source": [
    "df2 = pd.read_csv('DIAGNOSES_ICD.csv')"
   ]
  },
  {
   "cell_type": "code",
   "execution_count": 10,
   "id": "e8b70a69",
   "metadata": {},
   "outputs": [
    {
     "data": {
      "text/html": [
       "<div>\n",
       "<style scoped>\n",
       "    .dataframe tbody tr th:only-of-type {\n",
       "        vertical-align: middle;\n",
       "    }\n",
       "\n",
       "    .dataframe tbody tr th {\n",
       "        vertical-align: top;\n",
       "    }\n",
       "\n",
       "    .dataframe thead th {\n",
       "        text-align: right;\n",
       "    }\n",
       "</style>\n",
       "<table border=\"1\" class=\"dataframe\">\n",
       "  <thead>\n",
       "    <tr style=\"text-align: right;\">\n",
       "      <th></th>\n",
       "      <th>ROW_ID</th>\n",
       "      <th>SUBJECT_ID</th>\n",
       "      <th>HADM_ID</th>\n",
       "      <th>SEQ_NUM</th>\n",
       "      <th>ICD9_CODE</th>\n",
       "    </tr>\n",
       "  </thead>\n",
       "  <tbody>\n",
       "    <tr>\n",
       "      <th>0</th>\n",
       "      <td>1297</td>\n",
       "      <td>109</td>\n",
       "      <td>172335</td>\n",
       "      <td>1.0</td>\n",
       "      <td>40301</td>\n",
       "    </tr>\n",
       "    <tr>\n",
       "      <th>1</th>\n",
       "      <td>1298</td>\n",
       "      <td>109</td>\n",
       "      <td>172335</td>\n",
       "      <td>2.0</td>\n",
       "      <td>486</td>\n",
       "    </tr>\n",
       "    <tr>\n",
       "      <th>2</th>\n",
       "      <td>1299</td>\n",
       "      <td>109</td>\n",
       "      <td>172335</td>\n",
       "      <td>3.0</td>\n",
       "      <td>58281</td>\n",
       "    </tr>\n",
       "    <tr>\n",
       "      <th>3</th>\n",
       "      <td>1300</td>\n",
       "      <td>109</td>\n",
       "      <td>172335</td>\n",
       "      <td>4.0</td>\n",
       "      <td>5855</td>\n",
       "    </tr>\n",
       "    <tr>\n",
       "      <th>4</th>\n",
       "      <td>1301</td>\n",
       "      <td>109</td>\n",
       "      <td>172335</td>\n",
       "      <td>5.0</td>\n",
       "      <td>4254</td>\n",
       "    </tr>\n",
       "  </tbody>\n",
       "</table>\n",
       "</div>"
      ],
      "text/plain": [
       "   ROW_ID  SUBJECT_ID  HADM_ID  SEQ_NUM ICD9_CODE\n",
       "0    1297         109   172335      1.0     40301\n",
       "1    1298         109   172335      2.0       486\n",
       "2    1299         109   172335      3.0     58281\n",
       "3    1300         109   172335      4.0      5855\n",
       "4    1301         109   172335      5.0      4254"
      ]
     },
     "execution_count": 10,
     "metadata": {},
     "output_type": "execute_result"
    }
   ],
   "source": [
    "df2.head()"
   ]
  },
  {
   "cell_type": "code",
   "execution_count": 12,
   "id": "377e52c3",
   "metadata": {},
   "outputs": [
    {
     "data": {
      "text/plain": [
       "(651047, 5)"
      ]
     },
     "execution_count": 12,
     "metadata": {},
     "output_type": "execute_result"
    }
   ],
   "source": [
    "df2.shape"
   ]
  },
  {
   "cell_type": "code",
   "execution_count": null,
   "id": "31e7a3fa",
   "metadata": {},
   "outputs": [],
   "source": []
  },
  {
   "cell_type": "code",
   "execution_count": 22,
   "id": "5d94e590",
   "metadata": {},
   "outputs": [
    {
     "name": "stdout",
     "output_type": "stream",
     "text": [
      "        Unnamed: 0   ROW_ID  SUBJECT_ID  HADM_ID  \\\n",
      "0           100164   107417       88360   130127   \n",
      "1           100165   107418       88360   130127   \n",
      "2           100166   107419       14209   117857   \n",
      "3           100167   107420       14209   117857   \n",
      "4           100168   107421       10959   135569   \n",
      "...            ...      ...         ...      ...   \n",
      "429233     2083153  2075611       31668   134163   \n",
      "429234     2083163  2079743       32242   163974   \n",
      "429235     2083165  2079745       32242   163974   \n",
      "429236     2083168  2075880       31668   134163   \n",
      "429237     2083179  2070661       31097   115637   \n",
      "\n",
      "                                                     TEXT  \\\n",
      "0       Sinus rhythm with A-V conduction delay.  Infer...   \n",
      "1       Sinus rhythm with A-V conduction delay. Infero...   \n",
      "2       Sinus rhythm. Normal ECG. Compared to the prev...   \n",
      "3       Sinus tachycardia. Low limb lead voltage. Comp...   \n",
      "4       Sinus bradycardia\\nPremature beats - may be ju...   \n",
      "...                                                   ...   \n",
      "429233  Neo \\rAtttneDAY 32 WK PMA\\nDay 36, now 32 wk R...   \n",
      "429234  Nursing Progress Note\\nPlan for baby gram with...   \n",
      "429235  Respiratory Care\\nPt cont on prong CPAP. Weane...   \n",
      "429236  [** 63**] PHysical Exam\\nPE: pink, AFOF, nasal...   \n",
      "429237  NPN 1800\\nNursing Addendum:\\n[**Known lastname...   \n",
      "\n",
      "                                                icd_codes  \n",
      "0       41041,34839,41401,53089,2449,53081,78839,78093...  \n",
      "1       41041,34839,41401,53089,2449,53081,78839,78093...  \n",
      "2       5790,4538,2809,2339,2113,V556,V1051,5790,4538,...  \n",
      "3       5790,4538,2809,2339,2113,V556,V1051,5790,4538,...  \n",
      "4       41401,5128,4019,41401,5128,4019,41401,5128,401...  \n",
      "...                                                   ...  \n",
      "429233  V3001,769,7742,76514,76524,7473,V502,V290,V300...  \n",
      "429234  76502,77212,7454,7470,77181,2761,76523,769,779...  \n",
      "429235  76502,77212,7454,7470,77181,2761,76523,769,779...  \n",
      "429236  V3001,769,7742,76514,76524,7473,V502,V290,V300...  \n",
      "429237  V3101,76517,76528,7742,V290,V3101,76517,76528,...  \n",
      "\n",
      "[429238 rows x 6 columns]\n"
     ]
    }
   ],
   "source": [
    "# Merge the two dataframes on 'HADM_ID'\n",
    "merged_df = pd.merge(df, df2, on='HADM_ID', how='left')\n",
    "\n",
    "# Group by 'HADM_ID' and aggregate 'ICD9_CODE' values\n",
    "icd_codes_df = merged_df.groupby('HADM_ID')['ICD9_CODE'].apply(lambda x: ','.join(x.dropna().astype(str))).reset_index()\n",
    "\n",
    "# Merge the aggregated ICD9_CODE values back to the original dataframe\n",
    "df = pd.merge(df, icd_codes_df, on='HADM_ID', how='left')\n",
    "\n",
    "# Rename the aggregated column\n",
    "df.rename(columns={'ICD9_CODE': 'icd_codes'}, inplace=True)\n",
    "\n",
    "print(df)"
   ]
  },
  {
   "cell_type": "code",
   "execution_count": 23,
   "id": "fefd87cf",
   "metadata": {},
   "outputs": [],
   "source": [
    "columns = ['HADM_ID','TEXT','HADM_ID','icd_codes']\n",
    "df = pd.DataFrame(df, columns=columns)"
   ]
  },
  {
   "cell_type": "code",
   "execution_count": 27,
   "id": "e4c8ebf1",
   "metadata": {},
   "outputs": [
    {
     "data": {
      "text/html": [
       "<div>\n",
       "<style scoped>\n",
       "    .dataframe tbody tr th:only-of-type {\n",
       "        vertical-align: middle;\n",
       "    }\n",
       "\n",
       "    .dataframe tbody tr th {\n",
       "        vertical-align: top;\n",
       "    }\n",
       "\n",
       "    .dataframe thead th {\n",
       "        text-align: right;\n",
       "    }\n",
       "</style>\n",
       "<table border=\"1\" class=\"dataframe\">\n",
       "  <thead>\n",
       "    <tr style=\"text-align: right;\">\n",
       "      <th></th>\n",
       "      <th>HADM_ID</th>\n",
       "      <th>TEXT</th>\n",
       "      <th>HADM_ID</th>\n",
       "      <th>icd_codes</th>\n",
       "    </tr>\n",
       "  </thead>\n",
       "  <tbody>\n",
       "    <tr>\n",
       "      <th>0</th>\n",
       "      <td>130127</td>\n",
       "      <td>Sinus rhythm with A-V conduction delay.  Infer...</td>\n",
       "      <td>130127</td>\n",
       "      <td>41041,34839,41401,53089,2449,53081,78839,78093...</td>\n",
       "    </tr>\n",
       "    <tr>\n",
       "      <th>1</th>\n",
       "      <td>130127</td>\n",
       "      <td>Sinus rhythm with A-V conduction delay. Infero...</td>\n",
       "      <td>130127</td>\n",
       "      <td>41041,34839,41401,53089,2449,53081,78839,78093...</td>\n",
       "    </tr>\n",
       "    <tr>\n",
       "      <th>2</th>\n",
       "      <td>117857</td>\n",
       "      <td>Sinus rhythm. Normal ECG. Compared to the prev...</td>\n",
       "      <td>117857</td>\n",
       "      <td>5790,4538,2809,2339,2113,V556,V1051,5790,4538,...</td>\n",
       "    </tr>\n",
       "    <tr>\n",
       "      <th>3</th>\n",
       "      <td>117857</td>\n",
       "      <td>Sinus tachycardia. Low limb lead voltage. Comp...</td>\n",
       "      <td>117857</td>\n",
       "      <td>5790,4538,2809,2339,2113,V556,V1051,5790,4538,...</td>\n",
       "    </tr>\n",
       "    <tr>\n",
       "      <th>4</th>\n",
       "      <td>135569</td>\n",
       "      <td>Sinus bradycardia\\nPremature beats - may be ju...</td>\n",
       "      <td>135569</td>\n",
       "      <td>41401,5128,4019,41401,5128,4019,41401,5128,401...</td>\n",
       "    </tr>\n",
       "    <tr>\n",
       "      <th>5</th>\n",
       "      <td>183536</td>\n",
       "      <td>Sinus rhythm.  Left axis deviation.  Probable ...</td>\n",
       "      <td>183536</td>\n",
       "      <td>41401,4139,2875,99812,4240,2859,4019,2720,4140...</td>\n",
       "    </tr>\n",
       "    <tr>\n",
       "      <th>6</th>\n",
       "      <td>183536</td>\n",
       "      <td>Sinus rhythm\\nLeft axis deviation - anterior f...</td>\n",
       "      <td>183536</td>\n",
       "      <td>41401,4139,2875,99812,4240,2859,4019,2720,4140...</td>\n",
       "    </tr>\n",
       "    <tr>\n",
       "      <th>7</th>\n",
       "      <td>183536</td>\n",
       "      <td>Sinus bradycardia. Left anterior fascicular bl...</td>\n",
       "      <td>183536</td>\n",
       "      <td>41401,4139,2875,99812,4240,2859,4019,2720,4140...</td>\n",
       "    </tr>\n",
       "    <tr>\n",
       "      <th>8</th>\n",
       "      <td>181210</td>\n",
       "      <td>Sinus rhythm\\nLeft anterior fascicular block\\n...</td>\n",
       "      <td>181210</td>\n",
       "      <td>53140,41071,2851,4019,2720,53560,3310,29410,56...</td>\n",
       "    </tr>\n",
       "    <tr>\n",
       "      <th>9</th>\n",
       "      <td>181210</td>\n",
       "      <td>Sinus rhythm\\nLeft anterior fascicular block\\n...</td>\n",
       "      <td>181210</td>\n",
       "      <td>53140,41071,2851,4019,2720,53560,3310,29410,56...</td>\n",
       "    </tr>\n",
       "  </tbody>\n",
       "</table>\n",
       "</div>"
      ],
      "text/plain": [
       "   HADM_ID                                               TEXT  HADM_ID  \\\n",
       "0   130127  Sinus rhythm with A-V conduction delay.  Infer...   130127   \n",
       "1   130127  Sinus rhythm with A-V conduction delay. Infero...   130127   \n",
       "2   117857  Sinus rhythm. Normal ECG. Compared to the prev...   117857   \n",
       "3   117857  Sinus tachycardia. Low limb lead voltage. Comp...   117857   \n",
       "4   135569  Sinus bradycardia\\nPremature beats - may be ju...   135569   \n",
       "5   183536  Sinus rhythm.  Left axis deviation.  Probable ...   183536   \n",
       "6   183536  Sinus rhythm\\nLeft axis deviation - anterior f...   183536   \n",
       "7   183536  Sinus bradycardia. Left anterior fascicular bl...   183536   \n",
       "8   181210  Sinus rhythm\\nLeft anterior fascicular block\\n...   181210   \n",
       "9   181210  Sinus rhythm\\nLeft anterior fascicular block\\n...   181210   \n",
       "\n",
       "                                           icd_codes  \n",
       "0  41041,34839,41401,53089,2449,53081,78839,78093...  \n",
       "1  41041,34839,41401,53089,2449,53081,78839,78093...  \n",
       "2  5790,4538,2809,2339,2113,V556,V1051,5790,4538,...  \n",
       "3  5790,4538,2809,2339,2113,V556,V1051,5790,4538,...  \n",
       "4  41401,5128,4019,41401,5128,4019,41401,5128,401...  \n",
       "5  41401,4139,2875,99812,4240,2859,4019,2720,4140...  \n",
       "6  41401,4139,2875,99812,4240,2859,4019,2720,4140...  \n",
       "7  41401,4139,2875,99812,4240,2859,4019,2720,4140...  \n",
       "8  53140,41071,2851,4019,2720,53560,3310,29410,56...  \n",
       "9  53140,41071,2851,4019,2720,53560,3310,29410,56...  "
      ]
     },
     "execution_count": 27,
     "metadata": {},
     "output_type": "execute_result"
    }
   ],
   "source": [
    "df.head(10)"
   ]
  },
  {
   "cell_type": "code",
   "execution_count": 33,
   "id": "82149a39",
   "metadata": {},
   "outputs": [
    {
     "data": {
      "text/plain": [
       "'4241,42732,28731,42731,4019,2720,60000,4241,42732,28731,42731,4019,2720,60000,4241,42732,28731,42731,4019,2720,60000,4241,42732,28731,42731,4019,2720,60000,4241,42732,28731,42731,4019,2720,60000,4241,42732,28731,42731,4019,2720,60000,4241,42732,28731,42731,4019,2720,60000,4241,42732,28731,42731,4019,2720,60000'"
      ]
     },
     "execution_count": 33,
     "metadata": {},
     "output_type": "execute_result"
    }
   ],
   "source": [
    "df['icd_codes'][1009]"
   ]
  },
  {
   "cell_type": "markdown",
   "id": "bdf2c37b",
   "metadata": {},
   "source": [
    "## For mouse click"
   ]
  },
  {
   "cell_type": "code",
   "execution_count": 35,
   "id": "0bad857b",
   "metadata": {},
   "outputs": [
    {
     "name": "stdout",
     "output_type": "stream",
     "text": [
      "Collecting mouse\n",
      "  Downloading mouse-0.7.1-py2.py3-none-any.whl (16 kB)\n",
      "Installing collected packages: mouse\n",
      "Successfully installed mouse-0.7.1\n"
     ]
    }
   ],
   "source": [
    "!pip install mouse"
   ]
  },
  {
   "cell_type": "code",
   "execution_count": 2,
   "id": "bb3ef836",
   "metadata": {},
   "outputs": [],
   "source": [
    "# import numpy as np\n",
    "# import time\n",
    "# import mouse\n",
    "# import threading\n",
    "\n",
    "# def move_mouse():\n",
    "#     while True:\n",
    "#         random_row = np.random.random_sample()*100\n",
    "#         random_col = np.random.random_sample()*10\n",
    "#         random_time = np.random.random_sample()*np.random.random_sample() * 100\n",
    "#         mouse.wheel(1000)\n",
    "#         mouse.wheel(-1000)\n",
    "#         mouse.move(random_row, random_col, absolute=False, duration=0.2)\n",
    "#         mouse.move(-random_row, -random_col, absolute=False, duration = 0.2)\n",
    "#         mouse.LEFT\n",
    "#         time.sleep(random_time)\n",
    "\n",
    "\n",
    "# x = threading.Thread(target=move_mouse)\n",
    "# x.start()\n",
    "\n",
    "\n",
    "import numpy as np\n",
    "import time\n",
    "import mouse\n",
    "import threading\n",
    "\n",
    "# Global variable to control the thread\n",
    "running = True\n",
    "\n",
    "def move_mouse():\n",
    "    global running\n",
    "    while running:\n",
    "        random_row = np.random.random_sample() * 100\n",
    "        random_col = np.random.random_sample() * 10\n",
    "        random_time = np.random.random_sample() * np.random.random_sample() * 100\n",
    "        mouse.wheel(1000)\n",
    "        mouse.wheel(-1000)\n",
    "        mouse.move(random_row, random_col, absolute=False, duration=0.2)\n",
    "        mouse.move(-random_row, -random_col, absolute=False, duration=0.2)\n",
    "        mouse.LEFT\n",
    "        time.sleep(random_time)\n",
    "\n",
    "# Function to stop the thread\n",
    "def stop_mouse_thread():\n",
    "    global running\n",
    "    running = False\n",
    "\n",
    "x = threading.Thread(target=move_mouse)\n",
    "x.start()\n",
    "\n",
    "# Example: Stop the thread after 10 seconds\n",
    "time.sleep(7200)\n",
    "stop_mouse_thread()"
   ]
  },
  {
   "cell_type": "code",
   "execution_count": null,
   "id": "59f4ac37",
   "metadata": {},
   "outputs": [],
   "source": []
  },
  {
   "cell_type": "code",
   "execution_count": null,
   "id": "3389cc86",
   "metadata": {},
   "outputs": [],
   "source": []
  }
 ],
 "metadata": {
  "kernelspec": {
   "display_name": "Python 3 (ipykernel)",
   "language": "python",
   "name": "python3"
  },
  "language_info": {
   "codemirror_mode": {
    "name": "ipython",
    "version": 3
   },
   "file_extension": ".py",
   "mimetype": "text/x-python",
   "name": "python",
   "nbconvert_exporter": "python",
   "pygments_lexer": "ipython3",
   "version": "3.10.13"
  }
 },
 "nbformat": 4,
 "nbformat_minor": 5
}
